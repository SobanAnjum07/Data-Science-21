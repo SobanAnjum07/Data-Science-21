{
 "cells": [
  {
   "cell_type": "markdown",
   "metadata": {},
   "source": [
    "# M. Soban Anjum - BSDSF21A007"
   ]
  },
  {
   "cell_type": "markdown",
   "metadata": {},
   "source": [
    "---"
   ]
  },
  {
   "cell_type": "markdown",
   "metadata": {},
   "source": [
    "## Implement Nearest Neighbor"
   ]
  },
  {
   "cell_type": "code",
   "execution_count": 1,
   "metadata": {},
   "outputs": [],
   "source": [
    "import numpy as np\n",
    "from PIL import Image\n",
    "\n",
    "image = Image.open('hehe.jpg')\n",
    "input_image = np.array(image)\n",
    "\n",
    "def nearest_neighbor_interpolation(input_image, new_width, new_height):\n",
    "    orig_height, orig_width = input_image.shape[:2]\n",
    "\n",
    "    resized_image = np.zeros((new_height, new_width, 3), dtype=np.uint8)\n",
    "\n",
    "    # Compute scaling factors\n",
    "    x_scale = new_width / orig_width\n",
    "    y_scale = new_height / orig_height\n",
    "\n",
    "    for y in range(new_height):\n",
    "        for x in range(new_width):\n",
    "            # Find the nearest neighbor pixel in the original image\n",
    "            orig_x = int(x / x_scale)\n",
    "            orig_y = int(y / y_scale)\n",
    "\n",
    "            # Assign the pixel value\n",
    "            resized_image[y, x] = input_image[orig_y, orig_x]\n",
    "\n",
    "    return resized_image\n",
    "\n",
    "resized_img = nearest_neighbor_interpolation(input_image, 800, 600)\n",
    "resized_image = Image.fromarray(resized_img)\n",
    "resized_image.show()  \n",
    "resized_image.save(\"resized_image_Nearest_Neighbour.jpg\")\n"
   ]
  },
  {
   "cell_type": "markdown",
   "metadata": {},
   "source": [
    "---"
   ]
  },
  {
   "cell_type": "markdown",
   "metadata": {},
   "source": [
    "## Bilinear Interpolation and Resizing"
   ]
  },
  {
   "cell_type": "code",
   "execution_count": 2,
   "metadata": {},
   "outputs": [],
   "source": [
    "import numpy as np\n",
    "from PIL import Image\n",
    "\n",
    "image = Image.open('hehe.jpg')\n",
    "input_image = np.array(image)\n",
    "\n",
    "def bilinear_interpolation(input_image, new_width, new_height):\n",
    "    orig_height, orig_width = input_image.shape[:2]\n",
    "    \n",
    "    resized_image = np.zeros((new_height, new_width, 3), dtype=np.uint8)\n",
    "    \n",
    "    x_scale = new_width / orig_width\n",
    "    y_scale = new_height / orig_height\n",
    "\n",
    "    for y in range(new_height):\n",
    "        for x in range(new_width):\n",
    "            orig_x = x / x_scale\n",
    "            orig_y = y / y_scale\n",
    "\n",
    "            x1 = int(orig_x)\n",
    "            y1 = int(orig_y)\n",
    "            x2 = min(x1 + 1, orig_width - 1)\n",
    "            y2 = min(y1 + 1, orig_height - 1)\n",
    "\n",
    "            x_weight = orig_x - x1\n",
    "            y_weight = orig_y - y1\n",
    "\n",
    "            # Interpolate along x for both top and bottom pairs\n",
    "            top = (1 - x_weight) * input_image[y1, x1] + x_weight * input_image[y1, x2]\n",
    "            bottom = (1 - x_weight) * input_image[y2, x1] + x_weight * input_image[y2, x2]\n",
    "\n",
    "            # Interpolate along y\n",
    "            interpolated_pixel = (1 - y_weight) * top + y_weight * bottom\n",
    "            resized_image[y, x] = interpolated_pixel\n",
    "\n",
    "    return resized_image\n",
    "\n",
    "new_width = 800\n",
    "new_height = 600\n",
    "\n",
    "resized_img_bilinear = bilinear_interpolation(input_image, new_width, new_height)\n",
    "resized_image_bilinear = Image.fromarray(resized_img_bilinear)\n",
    "resized_image_bilinear.show()  # Display resized image\n",
    "resized_image_bilinear.save('resized_image_bilinear.jpg')  # Save resized image\n"
   ]
  },
  {
   "cell_type": "markdown",
   "metadata": {},
   "source": [
    "---"
   ]
  },
  {
   "cell_type": "markdown",
   "metadata": {},
   "source": [
    "## Implement Convolution"
   ]
  },
  {
   "cell_type": "code",
   "execution_count": 3,
   "metadata": {},
   "outputs": [],
   "source": [
    "def convolve_image(input_image, kernel):\n",
    "    image_height, image_width = input_image.shape[:2]\n",
    "    \n",
    "    kernel_height, kernel_width = kernel.shape\n",
    "    \n",
    "    # Padding the image to handle edges\n",
    "    pad_height = kernel_height // 2\n",
    "    pad_width = kernel_width // 2\n",
    "    padded_image = np.pad(input_image, ((pad_height, pad_height), (pad_width, pad_width), (0, 0)), mode='constant')\n",
    "    \n",
    "    # Create empty array for the convolved image\n",
    "    convolved_image = np.zeros_like(input_image)\n",
    "    \n",
    "    # Loop over every pixel in the image\n",
    "    for y in range(image_height):\n",
    "        for x in range(image_width):\n",
    "            # Extract the region of interest\n",
    "            region = padded_image[y:y+kernel_height, x:x+kernel_width]\n",
    "            \n",
    "            # Perform element-wise multiplication and sum the results\n",
    "            for channel in range(3):  # Loop over RGB channels\n",
    "                convolved_image[y, x, channel] = np.sum(region[:, :, channel] * kernel)\n",
    "    \n",
    "    convolved_image = np.clip(convolved_image, 0, 255)\n",
    "    \n",
    "    return convolved_image\n",
    "\n",
    "\n",
    "sobel_kernel = np.array([[-1, 0, 1],\n",
    "                         [-2, 0, 2],\n",
    "                         [-1, 0, 1]])\n",
    "\n",
    "convolved_img = convolve_image(input_image, sobel_kernel)\n",
    "convolved_image = Image.fromarray(convolved_img.astype(np.uint8))\n",
    "convolved_image.show() \n",
    "convolved_image.save('convolved_image.jpg')  \n"
   ]
  },
  {
   "cell_type": "markdown",
   "metadata": {},
   "source": [
    "--- "
   ]
  },
  {
   "cell_type": "markdown",
   "metadata": {},
   "source": [
    "## Gaussian Filter --  ( input image- Apply Gaussian filter-Output filtered image)"
   ]
  },
  {
   "cell_type": "code",
   "execution_count": 4,
   "metadata": {},
   "outputs": [],
   "source": [
    "def gaussian_kernel(size, sigma=1):\n",
    "    \"\"\"Generates a Gaussian kernel.\"\"\"\n",
    "    kernel = np.fromfunction(lambda x, y: (1/(2*np.pi*sigma**2)) * \n",
    "                             np.exp(-((x-(size-1)/2)**2 + (y-(size-1)/2)**2) / (2*sigma**2)),\n",
    "                             (size, size))\n",
    "    return kernel / np.sum(kernel)\n",
    "\n",
    "def apply_gaussian_filter(input_image, kernel_size=5, sigma=1):\n",
    "    kernel = gaussian_kernel(kernel_size, sigma)\n",
    "    return convolve_image(input_image, kernel)\n",
    "\n",
    "gaussian_filtered_image = apply_gaussian_filter(input_image, kernel_size=5, sigma=1)\n",
    "gaussian_filtered_image = Image.fromarray(gaussian_filtered_image.astype(np.uint8))\n",
    "gaussian_filtered_image.show()  \n",
    "gaussian_filtered_image.save('gaussian_filtered_image.jpg')  \n"
   ]
  },
  {
   "cell_type": "markdown",
   "metadata": {},
   "source": [
    "---"
   ]
  },
  {
   "cell_type": "code",
   "execution_count": null,
   "metadata": {},
   "outputs": [],
   "source": []
  }
 ],
 "metadata": {
  "kernelspec": {
   "display_name": "Python 3",
   "language": "python",
   "name": "python3"
  },
  "language_info": {
   "codemirror_mode": {
    "name": "ipython",
    "version": 3
   },
   "file_extension": ".py",
   "mimetype": "text/x-python",
   "name": "python",
   "nbconvert_exporter": "python",
   "pygments_lexer": "ipython3",
   "version": "3.11.4"
  }
 },
 "nbformat": 4,
 "nbformat_minor": 2
}
