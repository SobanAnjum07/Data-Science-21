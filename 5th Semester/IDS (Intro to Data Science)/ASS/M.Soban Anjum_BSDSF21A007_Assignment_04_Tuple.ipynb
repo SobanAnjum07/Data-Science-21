{
 "cells": [
  {
   "cell_type": "markdown",
   "id": "1488806a",
   "metadata": {},
   "source": [
    "### Assignment-04 (Tuple)\n",
    "- Change the notebook name with your name and Roll Number.\n",
    "- Try this as your own, no chatgpt (it's for your learning)\n",
    "- after completing the assignment, submit this book on google class room."
   ]
  },
  {
   "cell_type": "markdown",
   "id": "0f49daa5",
   "metadata": {},
   "source": [
    "    Create an empty tuple and print it.\n",
    "        "
   ]
  },
  {
   "cell_type": "code",
   "execution_count": 22,
   "id": "9f34fb22",
   "metadata": {},
   "outputs": [
    {
     "name": "stdout",
     "output_type": "stream",
     "text": [
      "Empty Tuple: ()\n"
     ]
    }
   ],
   "source": [
    "empty_tuple = ()\n",
    "print(\"Empty Tuple:\", empty_tuple)\n"
   ]
  },
  {
   "cell_type": "markdown",
   "id": "e043fa87",
   "metadata": {},
   "source": [
    "    Create a tuple of your favorite fruits and print it.\n"
   ]
  },
  {
   "cell_type": "code",
   "execution_count": 23,
   "id": "a8075e3e",
   "metadata": {},
   "outputs": [
    {
     "name": "stdout",
     "output_type": "stream",
     "text": [
      "Favorite Fruits Tuple: ('apple', 'banana', 'orange')\n"
     ]
    }
   ],
   "source": [
    "favorite_fruits = ('apple', 'banana', 'orange')\n",
    "print(\"Favorite Fruits Tuple:\", favorite_fruits)\n"
   ]
  },
  {
   "cell_type": "markdown",
   "id": "63103aae",
   "metadata": {},
   "source": [
    "    Create a tuple that includes a mix of data types (integers, strings, floats).\n",
    "  "
   ]
  },
  {
   "cell_type": "code",
   "execution_count": 24,
   "id": "02d21498",
   "metadata": {},
   "outputs": [
    {
     "name": "stdout",
     "output_type": "stream",
     "text": [
      "Mixed Data Types Tuple: (1, 'hello', 3.14)\n"
     ]
    }
   ],
   "source": [
    "mixed_tuple = (1, 'hello', 3.14)\n",
    "print(\"Mixed Data Types Tuple:\", mixed_tuple)\n"
   ]
  },
  {
   "cell_type": "markdown",
   "id": "704e22bb",
   "metadata": {},
   "source": [
    "  Access the first element of a tuple.\n"
   ]
  },
  {
   "cell_type": "code",
   "execution_count": 25,
   "id": "bf90e463",
   "metadata": {},
   "outputs": [
    {
     "name": "stdout",
     "output_type": "stream",
     "text": [
      "First Element of Favorite Fruits Tuple: apple\n"
     ]
    }
   ],
   "source": [
    "first_element = favorite_fruits[0]\n",
    "print(\"First Element of Favorite Fruits Tuple:\", first_element)\n"
   ]
  },
  {
   "cell_type": "markdown",
   "id": "26563419",
   "metadata": {},
   "source": [
    "    Access the last element of a tuple."
   ]
  },
  {
   "cell_type": "code",
   "execution_count": 26,
   "id": "54b98b3a",
   "metadata": {},
   "outputs": [
    {
     "name": "stdout",
     "output_type": "stream",
     "text": [
      "Last Element of Favorite Fruits Tuple: orange\n"
     ]
    }
   ],
   "source": [
    "last_element = favorite_fruits[-1]\n",
    "print(\"Last Element of Favorite Fruits Tuple:\", last_element)\n"
   ]
  },
  {
   "cell_type": "markdown",
   "id": "15d49e96",
   "metadata": {},
   "source": [
    "Access the second and third elements of a tuple.\n"
   ]
  },
  {
   "cell_type": "code",
   "execution_count": 27,
   "id": "1b8f2886",
   "metadata": {},
   "outputs": [
    {
     "name": "stdout",
     "output_type": "stream",
     "text": [
      "Second and Third Elements of Favorite Fruits Tuple: ('banana', 'orange')\n"
     ]
    }
   ],
   "source": [
    "second_third_elements = favorite_fruits[1:3]\n",
    "print(\"Second and Third Elements of Favorite Fruits Tuple:\", second_third_elements)\n"
   ]
  },
  {
   "cell_type": "markdown",
   "id": "069741b2",
   "metadata": {},
   "source": [
    "\n",
    "    Slice a tuple to extract the first three elements.\n",
    "    "
   ]
  },
  {
   "cell_type": "code",
   "execution_count": 28,
   "id": "ba3f17f2",
   "metadata": {},
   "outputs": [
    {
     "name": "stdout",
     "output_type": "stream",
     "text": [
      "First Three Elements of Favorite Fruits Tuple: ('apple', 'banana', 'orange')\n"
     ]
    }
   ],
   "source": [
    "first_three_elements = favorite_fruits[:3]\n",
    "print(\"First Three Elements of Favorite Fruits Tuple:\", first_three_elements)\n"
   ]
  },
  {
   "cell_type": "markdown",
   "id": "f5f8af36",
   "metadata": {},
   "source": [
    "Slice a tuple to extract the last three elements.\n",
    " "
   ]
  },
  {
   "cell_type": "code",
   "execution_count": 29,
   "id": "72b61419",
   "metadata": {},
   "outputs": [
    {
     "name": "stdout",
     "output_type": "stream",
     "text": [
      "Last Three Elements of Favorite Fruits Tuple: ('apple', 'banana', 'orange')\n"
     ]
    }
   ],
   "source": [
    "last_three_elements = favorite_fruits[-3:]\n",
    "print(\"Last Three Elements of Favorite Fruits Tuple:\", last_three_elements)\n"
   ]
  },
  {
   "cell_type": "markdown",
   "id": "fbf3a8e6",
   "metadata": {},
   "source": [
    "   Slice a tuple to get every second element.\n"
   ]
  },
  {
   "cell_type": "code",
   "execution_count": 30,
   "id": "2f28222b",
   "metadata": {},
   "outputs": [
    {
     "name": "stdout",
     "output_type": "stream",
     "text": [
      "Every Second Element of Favorite Fruits Tuple: ('apple', 'orange')\n"
     ]
    }
   ],
   "source": [
    "every_second_element = favorite_fruits[::2]\n",
    "print(\"Every Second Element of Favorite Fruits Tuple:\", every_second_element)\n"
   ]
  },
  {
   "cell_type": "markdown",
   "id": "972a3d7e",
   "metadata": {},
   "source": [
    "    Reverse a tuple using slicing."
   ]
  },
  {
   "cell_type": "code",
   "execution_count": 31,
   "id": "a0c026b2",
   "metadata": {},
   "outputs": [
    {
     "name": "stdout",
     "output_type": "stream",
     "text": [
      "Reversed Favorite Fruits Tuple: ('orange', 'banana', 'apple')\n"
     ]
    }
   ],
   "source": [
    "reversed_tuple = favorite_fruits[::-1]\n",
    "print(\"Reversed Favorite Fruits Tuple:\", reversed_tuple)\n"
   ]
  },
  {
   "cell_type": "markdown",
   "id": "ff819f8c",
   "metadata": {},
   "source": [
    "Create two tuples and concatenate them.\n",
    "\n"
   ]
  },
  {
   "cell_type": "code",
   "execution_count": 32,
   "id": "34bb1253",
   "metadata": {},
   "outputs": [
    {
     "name": "stdout",
     "output_type": "stream",
     "text": [
      "Concatenated Tuple: (1, 2, 3, 'a', 'b', 'c')\n"
     ]
    }
   ],
   "source": [
    "tuple1 = (1, 2, 3)\n",
    "tuple2 = ('a', 'b', 'c')\n",
    "concatenated_tuple = tuple1 + tuple2\n",
    "print(\"Concatenated Tuple:\", concatenated_tuple)\n"
   ]
  },
  {
   "cell_type": "markdown",
   "id": "6f81c447",
   "metadata": {},
   "source": [
    "    Repeat a tuple multiple times using the repetition operator."
   ]
  },
  {
   "cell_type": "code",
   "execution_count": 33,
   "id": "a7993e54",
   "metadata": {},
   "outputs": [
    {
     "name": "stdout",
     "output_type": "stream",
     "text": [
      "Repeated Favorite Fruits Tuple: ('apple', 'banana', 'orange', 'apple', 'banana', 'orange')\n"
     ]
    }
   ],
   "source": [
    "repeated_tuple = favorite_fruits * 2\n",
    "print(\"Repeated Favorite Fruits Tuple:\", repeated_tuple)\n"
   ]
  },
  {
   "cell_type": "markdown",
   "id": "e39bdb1d",
   "metadata": {},
   "source": [
    "Find the index of a specific element in a tuple using the index() method."
   ]
  },
  {
   "cell_type": "code",
   "execution_count": 34,
   "id": "d0887521",
   "metadata": {},
   "outputs": [
    {
     "name": "stdout",
     "output_type": "stream",
     "text": [
      "Index of 'banana' in Favorite Fruits Tuple: 1\n"
     ]
    }
   ],
   "source": [
    "index_of_banana = favorite_fruits.index('banana')\n",
    "print(\"Index of 'banana' in Favorite Fruits Tuple:\", index_of_banana)\n"
   ]
  },
  {
   "cell_type": "markdown",
   "id": "fc66ca7e",
   "metadata": {},
   "source": [
    "    Count the number of occurrences of a specific element in a tuple using the count() method."
   ]
  },
  {
   "cell_type": "code",
   "execution_count": 35,
   "id": "d9bf2831",
   "metadata": {},
   "outputs": [
    {
     "name": "stdout",
     "output_type": "stream",
     "text": [
      "Number of occurrences of 'apple' in Favorite Fruits Tuple: 1\n"
     ]
    }
   ],
   "source": [
    "count_apple = favorite_fruits.count('apple')\n",
    "print(\"Number of occurrences of 'apple' in Favorite Fruits Tuple:\", count_apple)\n"
   ]
  },
  {
   "cell_type": "markdown",
   "id": "9bdef970",
   "metadata": {},
   "source": [
    "Sort a tuple of numbers in ascending order.\n",
    "\n"
   ]
  },
  {
   "cell_type": "code",
   "execution_count": 36,
   "id": "326fca51",
   "metadata": {},
   "outputs": [
    {
     "name": "stdout",
     "output_type": "stream",
     "text": [
      "Sorted Numbers Tuple: (1, 2, 3, 5, 8)\n"
     ]
    }
   ],
   "source": [
    "numbers_tuple = (5, 3, 8, 1, 2)\n",
    "sorted_numbers = tuple(sorted(numbers_tuple))\n",
    "print(\"Sorted Numbers Tuple:\", sorted_numbers)\n"
   ]
  },
  {
   "cell_type": "markdown",
   "id": "2b1d9be5",
   "metadata": {},
   "source": [
    "    Sort a tuple of strings in alphabetical order."
   ]
  },
  {
   "cell_type": "code",
   "execution_count": 37,
   "id": "5b0a511f",
   "metadata": {},
   "outputs": [
    {
     "name": "stdout",
     "output_type": "stream",
     "text": [
      "Sorted Alphabetical Tuple: ('apple', 'banana', 'cherry', 'date')\n"
     ]
    }
   ],
   "source": [
    "alphabetical_tuple = ('apple', 'banana', 'cherry', 'date')\n",
    "sorted_alphabetical = tuple(sorted(alphabetical_tuple))\n",
    "print(\"Sorted Alphabetical Tuple:\", sorted_alphabetical)\n"
   ]
  },
  {
   "cell_type": "markdown",
   "id": "0393ae63",
   "metadata": {},
   "source": [
    "Sort a tuple of tuples based on the second element of each inner tuple."
   ]
  },
  {
   "cell_type": "code",
   "execution_count": 38,
   "id": "5b0d33fd",
   "metadata": {},
   "outputs": [
    {
     "name": "stdout",
     "output_type": "stream",
     "text": [
      "Sorted Tuple of Tuples by Second Element: ((1, 'apple'), (3, 'banana'), (2, 'cherry'))\n"
     ]
    }
   ],
   "source": [
    "tuple_of_tuples = ((1, 'apple'), (3, 'banana'), (2, 'cherry'))\n",
    "sorted_by_second_element = tuple(sorted(tuple_of_tuples, key=lambda x: x[1]))\n",
    "print(\"Sorted Tuple of Tuples by Second Element:\", sorted_by_second_element)\n"
   ]
  },
  {
   "cell_type": "markdown",
   "id": "65b8f449",
   "metadata": {},
   "source": [
    "Compare two tuples to see if they are equal in both value and identity."
   ]
  },
  {
   "cell_type": "code",
   "execution_count": 39,
   "id": "e09a6135",
   "metadata": {},
   "outputs": [
    {
     "name": "stdout",
     "output_type": "stream",
     "text": [
      "Value Equality: True\n",
      "Identity Equality: False\n"
     ]
    }
   ],
   "source": [
    "tuple1 = (1, 2, 3)\n",
    "tuple2 = (1, 2, 3)\n",
    "value_equality = tuple1 == tuple2\n",
    "identity_equality = tuple1 is tuple2\n",
    "print(\"Value Equality:\", value_equality)\n",
    "print(\"Identity Equality:\", identity_equality)\n"
   ]
  },
  {
   "cell_type": "markdown",
   "id": "0810cc18",
   "metadata": {},
   "source": [
    "Create a shallow copy of a tuple and observe the effects of modifying one of the tuples.\n",
    "\n"
   ]
  },
  {
   "cell_type": "code",
   "execution_count": 40,
   "id": "426bacd6",
   "metadata": {},
   "outputs": [
    {
     "name": "stdout",
     "output_type": "stream",
     "text": [
      "Original Tuple after Modification: (1, 2, 3, 4)\n",
      "Shallow Copy Tuple: (1, 2, 3)\n"
     ]
    }
   ],
   "source": [
    "original_tuple = (1, 2, 3)\n",
    "shallow_copy_tuple = original_tuple[:]\n",
    "original_tuple += (4,)\n",
    "print(\"Original Tuple after Modification:\", original_tuple)\n",
    "print(\"Shallow Copy Tuple:\", shallow_copy_tuple)\n"
   ]
  },
  {
   "cell_type": "markdown",
   "id": "f14455c5",
   "metadata": {},
   "source": [
    "    Create a deep copy of a nested tuple and observe the effects of modifying one of the tuples.\n"
   ]
  },
  {
   "cell_type": "code",
   "execution_count": 41,
   "id": "4564c764",
   "metadata": {},
   "outputs": [
    {
     "name": "stdout",
     "output_type": "stream",
     "text": [
      "Original Nested List after Modification: [[1, 2, 5], [3, 4]]\n",
      "Deep Copy Nested List: [[1, 2], [3, 4]]\n"
     ]
    }
   ],
   "source": [
    "import copy\n",
    "\n",
    "\n",
    "original_nested_list = [[1, 2], [3, 4]]\n",
    "deep_copy_nested_list = copy.deepcopy(original_nested_list)\n",
    "original_nested_list[0].append(5)\n",
    "print(\"Original Nested List after Modification:\", original_nested_list)\n",
    "print(\"Deep Copy Nested List:\", deep_copy_nested_list)\n"
   ]
  },
  {
   "cell_type": "markdown",
   "id": "b01879a0",
   "metadata": {},
   "source": [
    "    Pickle a tuple and save it to a file.\n"
   ]
  },
  {
   "cell_type": "code",
   "execution_count": 42,
   "id": "55ddfbd4",
   "metadata": {},
   "outputs": [
    {
     "name": "stdout",
     "output_type": "stream",
     "text": [
      "Tuple Pickled and Saved to 'data_tuple.pkl' file.\n"
     ]
    }
   ],
   "source": [
    "import pickle\n",
    "\n",
    "data_tuple = (1, 'hello', 3.14)\n",
    "with open('data_tuple.pkl', 'wb') as file:\n",
    "    pickle.dump(data_tuple, file)\n",
    "print(\"Tuple Pickled and Saved to 'data_tuple.pkl' file.\")\n"
   ]
  },
  {
   "cell_type": "markdown",
   "id": "6874f46a",
   "metadata": {},
   "source": [
    "    Unpickle a tuple from a file and display its content."
   ]
  },
  {
   "cell_type": "code",
   "execution_count": 43,
   "id": "02f8549f",
   "metadata": {},
   "outputs": [
    {
     "name": "stdout",
     "output_type": "stream",
     "text": [
      "Unpickled Tuple: (1, 'hello', 3.14)\n"
     ]
    }
   ],
   "source": [
    "import pickle\n",
    "\n",
    "with open('data_tuple.pkl', 'rb') as file:\n",
    "    unpickled_tuple = pickle.load(file)\n",
    "print(\"Unpickled Tuple:\", unpickled_tuple)\n",
    "\n",
    "\n"
   ]
  }
 ],
 "metadata": {
  "kernelspec": {
   "display_name": "Python 3 (ipykernel)",
   "language": "python",
   "name": "python3"
  },
  "language_info": {
   "codemirror_mode": {
    "name": "ipython",
    "version": 3
   },
   "file_extension": ".py",
   "mimetype": "text/x-python",
   "name": "python",
   "nbconvert_exporter": "python",
   "pygments_lexer": "ipython3",
   "version": "3.11.4"
  }
 },
 "nbformat": 4,
 "nbformat_minor": 5
}
