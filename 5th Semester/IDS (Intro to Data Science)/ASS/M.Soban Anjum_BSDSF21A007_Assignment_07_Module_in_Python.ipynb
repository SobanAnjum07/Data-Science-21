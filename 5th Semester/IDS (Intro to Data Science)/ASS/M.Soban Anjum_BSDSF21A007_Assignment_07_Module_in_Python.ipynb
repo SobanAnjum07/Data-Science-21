{
 "cells": [
  {
   "cell_type": "markdown",
   "id": "779a9769",
   "metadata": {},
   "source": [
    "### Assignment-07 (Module_in_Python)\n",
    "- Change the notebook name with your name and Roll Number.\n",
    "- Try this as your own, no chatgpt (it's for your learning)\n",
    "- after completing the assignment, submit this book on google class room."
   ]
  },
  {
   "cell_type": "markdown",
   "id": "46e7a5c0",
   "metadata": {},
   "source": [
    "Explain the difference between import module and from module import *. Provide an example for each.\n"
   ]
  },
  {
   "cell_type": "markdown",
   "id": "4b27d2d4",
   "metadata": {},
   "source": [
    "`import module`: This statement imports the entire module, and to access its contents, you need to use the module name followed by a dot and then the item you want to access. For example:"
   ]
  },
  {
   "cell_type": "code",
   "execution_count": null,
   "id": "3e218580",
   "metadata": {},
   "outputs": [],
   "source": [
    "import math\n",
    "print(math.pi)  # Accessing pi constant from math module\n"
   ]
  },
  {
   "cell_type": "markdown",
   "id": "cda97bbe",
   "metadata": {},
   "source": [
    "`from module import *`: This statement imports all names (functions, classes, variables) from the module directly into the current namespace. It allows you to use the imported items without using the module name. For example:"
   ]
  },
  {
   "cell_type": "code",
   "execution_count": null,
   "id": "7ab82227",
   "metadata": {},
   "outputs": [],
   "source": [
    "from math import *\n",
    "print(pi)  # Directly using pi without the module name\n"
   ]
  },
  {
   "cell_type": "markdown",
   "id": "935bbfe7",
   "metadata": {},
   "source": [
    "What is an alias, and how can it be used while importing a module? Provide an example.\n"
   ]
  },
  {
   "cell_type": "markdown",
   "id": "c8c7dc3b",
   "metadata": {},
   "source": [
    "An alias is an alternate name that you can use to refer to a module or its contents. It can be specified during import and helps in shortening long module names or avoiding conflicts with existing names.\n",
    "Example:"
   ]
  },
  {
   "cell_type": "code",
   "execution_count": null,
   "id": "944a369c",
   "metadata": {},
   "outputs": [],
   "source": [
    "import math as m  # Using 'm' as an alias for the math module\n",
    "print(m.pi)  # Accessing pi constant using the 'm' alias\n"
   ]
  },
  {
   "cell_type": "markdown",
   "id": "1e1d37c8",
   "metadata": {},
   "source": [
    "Demonstrate the use of the importlib module to import a module dynamically."
   ]
  },
  {
   "cell_type": "code",
   "execution_count": null,
   "id": "cd334b12",
   "metadata": {},
   "outputs": [],
   "source": [
    "import importlib\n",
    "module_name = \"math\"  # Module name as a string\n",
    "math_module = importlib.import_module(module_name)  # Dynamically import the module\n",
    "print(math_module.pi)  # Accessing pi constant from the dynamically imported module\n"
   ]
  },
  {
   "cell_type": "markdown",
   "id": "520b6194",
   "metadata": {},
   "source": [
    "Implement a function that takes an angle in degrees and converts it to radians using the math module."
   ]
  },
  {
   "cell_type": "code",
   "execution_count": null,
   "id": "944626ba",
   "metadata": {},
   "outputs": [],
   "source": [
    "import math\n",
    "\n",
    "def degrees_to_radians(degrees):\n",
    "    radians = math.radians(degrees)\n",
    "    return radians\n",
    "\n",
    "angle_degrees = 90\n",
    "angle_radians = degrees_to_radians(angle_degrees)\n",
    "print(f\"{angle_degrees} degrees is equivalent to {angle_radians} radians.\")\n"
   ]
  },
  {
   "cell_type": "markdown",
   "id": "b81395fe",
   "metadata": {},
   "source": [
    "Create a program that simulates the rolling of a six-sided die using the random module."
   ]
  },
  {
   "cell_type": "code",
   "execution_count": 4,
   "id": "f5698b8a",
   "metadata": {},
   "outputs": [
    {
     "name": "stdout",
     "output_type": "stream",
     "text": [
      "Result of rolling the die: 2\n"
     ]
    }
   ],
   "source": [
    "import random\n",
    "\n",
    "def roll_dice():\n",
    "    return random.randint(1, 6) \n",
    "\n",
    "result = roll_dice()\n",
    "print(\"Result of rolling the die:\", result)\n"
   ]
  },
  {
   "cell_type": "markdown",
   "id": "aefd02a7",
   "metadata": {},
   "source": [
    "Implement a timer function that measures the execution time of a piece of code using the time module."
   ]
  },
  {
   "cell_type": "code",
   "execution_count": 6,
   "id": "b779c39c",
   "metadata": {},
   "outputs": [
    {
     "name": "stdout",
     "output_type": "stream",
     "text": [
      "Execution time: 2.0049500465393066 seconds\n"
     ]
    }
   ],
   "source": [
    "import time\n",
    "\n",
    "def timer_function():\n",
    "    start_time = time.time() \n",
    "\n",
    "    time.sleep(2)  \n",
    "    end_time = time.time()\n",
    "    execution_time = end_time - start_time\n",
    "    return execution_time\n",
    "\n",
    "execution_time = timer_function()\n",
    "print(\"Execution time:\", execution_time, \"seconds\")\n"
   ]
  },
  {
   "cell_type": "markdown",
   "id": "6d6cdae3",
   "metadata": {},
   "source": [
    "Write a function that calculates the difference in days between two given dates using the datetime module."
   ]
  },
  {
   "cell_type": "code",
   "execution_count": 7,
   "id": "65c3ce92",
   "metadata": {},
   "outputs": [
    {
     "name": "stdout",
     "output_type": "stream",
     "text": [
      "Difference in days: 60\n"
     ]
    }
   ],
   "source": [
    "from datetime import datetime, timedelta\n",
    "\n",
    "def days_difference(start_date, end_date):\n",
    "    start = datetime.strptime(start_date, \"%Y-%m-%d\")\n",
    "    end = datetime.strptime(end_date, \"%Y-%m-%d\")\n",
    "    difference = end - start\n",
    "    return difference.days\n",
    "\n",
    "date1 = \"2024-01-01\"\n",
    "date2 = \"2024-03-01\"\n",
    "difference_days = days_difference(date1, date2)\n",
    "print(\"Difference in days:\", difference_days)\n"
   ]
  },
  {
   "cell_type": "markdown",
   "id": "729111d8",
   "metadata": {},
   "source": [
    "Implement a program that checks if a given year is a leap year using the calendar module."
   ]
  },
  {
   "cell_type": "code",
   "execution_count": 9,
   "id": "067716aa",
   "metadata": {},
   "outputs": [
    {
     "name": "stdout",
     "output_type": "stream",
     "text": [
      "1969 is not a leap year.\n"
     ]
    }
   ],
   "source": [
    "import calendar\n",
    "\n",
    "def is_leap_year(year):\n",
    "    return calendar.isleap(year)\n",
    "\n",
    "year = 1969\n",
    "if is_leap_year(year):\n",
    "    print(f\"{year} is a leap year.\")\n",
    "else:\n",
    "    print(f\"{year} is not a leap year.\")\n"
   ]
  },
  {
   "cell_type": "markdown",
   "id": "8c4f73f2",
   "metadata": {},
   "source": [
    "Create a program that checks if a specific file exists in a given directory using the os module."
   ]
  },
  {
   "cell_type": "code",
   "execution_count": 11,
   "id": "f62123d1",
   "metadata": {},
   "outputs": [
    {
     "name": "stdout",
     "output_type": "stream",
     "text": [
      "hehe.txt does not exist in the directory.\n"
     ]
    }
   ],
   "source": [
    "import os\n",
    "\n",
    "def check_file_existence(directory, filename):\n",
    "    file_path = os.path.join(directory, filename)\n",
    "    return os.path.exists(file_path)\n",
    "\n",
    "directory_path = \"/hehe/to/haha\"\n",
    "file_name = \"hehe.txt\"\n",
    "if check_file_existence(directory_path, file_name):\n",
    "    print(f\"{file_name} exists in the directory.\")\n",
    "else:\n",
    "    print(f\"{file_name} does not exist in the directory.\")\n"
   ]
  },
  {
   "cell_type": "markdown",
   "id": "c1b34e47",
   "metadata": {},
   "source": [
    "Write a program that uses threading to perform parallel execution of three tasks."
   ]
  },
  {
   "cell_type": "code",
   "execution_count": 12,
   "id": "954bcf1d",
   "metadata": {},
   "outputs": [
    {
     "name": "stdout",
     "output_type": "stream",
     "text": [
      "Task 1 executing.\n",
      "Task 2 executing.\n",
      "Task 3 executing.\n",
      "All tasks completed.\n"
     ]
    }
   ],
   "source": [
    "import threading\n",
    "\n",
    "def task1():\n",
    "    print(\"Task 1 executing.\")\n",
    "\n",
    "def task2():\n",
    "    print(\"Task 2 executing.\")\n",
    "\n",
    "def task3():\n",
    "    print(\"Task 3 executing.\")\n",
    "\n",
    "# Create threads for each task\n",
    "thread1 = threading.Thread(target=task1)\n",
    "thread2 = threading.Thread(target=task2)\n",
    "thread3 = threading.Thread(target=task3)\n",
    "\n",
    "# Start the threads\n",
    "thread1.start()\n",
    "thread2.start()\n",
    "thread3.start()\n",
    "\n",
    "# Wait for all threads to finish\n",
    "thread1.join()\n",
    "thread2.join()\n",
    "thread3.join()\n",
    "\n",
    "print(\"All tasks completed.\")\n",
    "\n"
   ]
  },
  {
   "cell_type": "markdown",
   "id": "0fdd3e7c",
   "metadata": {},
   "source": [
    "Implement a program that downloads an image from a URL using the urllib module."
   ]
  },
  {
   "cell_type": "markdown",
   "id": "4241ccf7",
   "metadata": {},
   "source": []
  },
  {
   "cell_type": "code",
   "execution_count": 16,
   "id": "950950d9",
   "metadata": {},
   "outputs": [
    {
     "name": "stderr",
     "output_type": "stream",
     "text": [
      "/var/folders/ln/3h7vxn1x297c87rv0v1zvhyc0000gn/T/ipykernel_45678/1391329365.py:9: DeprecationWarning: ssl.SSLContext() without protocol argument is deprecated.\n",
      "  ssl_context = ssl.SSLContext()\n",
      "/var/folders/ln/3h7vxn1x297c87rv0v1zvhyc0000gn/T/ipykernel_45678/1391329365.py:9: DeprecationWarning: ssl.PROTOCOL_TLS is deprecated\n",
      "  ssl_context = ssl.SSLContext()\n"
     ]
    },
    {
     "name": "stdout",
     "output_type": "stream",
     "text": [
      "Image downloaded successfully as jaan.jpg.\n"
     ]
    }
   ],
   "source": [
    "import ssl\n",
    "import urllib.request\n",
    "\n",
    "# i have taken the help of the internet for this as i did not know about the errors and also the implementation \n",
    "\n",
    "def download_image(url, filename):\n",
    "    try:\n",
    "        # Ignore SSL certificate verification\n",
    "        ssl_context = ssl.SSLContext()\n",
    "        ssl_context.verify_mode = ssl.CERT_NONE\n",
    "\n",
    "        # Download the image from URL\n",
    "        with urllib.request.urlopen(url, context=ssl_context) as response, open(filename, 'wb') as out_file:\n",
    "            data = response.read()\n",
    "            out_file.write(data)\n",
    "        print(f\"Image downloaded successfully as {filename}.\")\n",
    "    except Exception as e:\n",
    "        print(\"Error:\", e)\n",
    "\n",
    "# Example usage\n",
    "image_url = \"https://www.nvidia.com/content/dam/en-zz/Solutions/geforce/ada/rtx-4090/geforce-ada-4090-web-og-1200x630.jpg\"\n",
    "download_image(image_url, \"jaan.jpg\")\n"
   ]
  },
  {
   "cell_type": "code",
   "execution_count": null,
   "id": "4de14cb5",
   "metadata": {},
   "outputs": [],
   "source": []
  }
 ],
 "metadata": {
  "kernelspec": {
   "display_name": "Python 3 (ipykernel)",
   "language": "python",
   "name": "python3"
  },
  "language_info": {
   "codemirror_mode": {
    "name": "ipython",
    "version": 3
   },
   "file_extension": ".py",
   "mimetype": "text/x-python",
   "name": "python",
   "nbconvert_exporter": "python",
   "pygments_lexer": "ipython3",
   "version": "3.11.4"
  }
 },
 "nbformat": 4,
 "nbformat_minor": 5
}
