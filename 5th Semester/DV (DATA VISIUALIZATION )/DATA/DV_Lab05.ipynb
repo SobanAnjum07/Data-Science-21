{
 "cells": [
  {
   "cell_type": "markdown",
   "metadata": {},
   "source": [
    "# DV Lab 05"
   ]
  },
  {
   "cell_type": "markdown",
   "metadata": {},
   "source": [
    "### Import Libraries and Dataset\n",
    "- Pandas\n",
    "- Seaborn\n",
    "- Matplotlib\n"
   ]
  },
  {
   "cell_type": "code",
   "execution_count": null,
   "metadata": {
    "vscode": {
     "languageId": "plaintext"
    }
   },
   "outputs": [],
   "source": []
  },
  {
   "cell_type": "markdown",
   "metadata": {},
   "source": [
    "\n",
    "##### Question: Does the price of the cars tend to increase with mileage?\n",
    "##### Marking Criteria: The chart should display a line for 'price' on the y-axis and 'mileage' on the x-axis. Consider adding a title and labels for the axes."
   ]
  },
  {
   "cell_type": "code",
   "execution_count": null,
   "metadata": {
    "vscode": {
     "languageId": "plaintext"
    }
   },
   "outputs": [],
   "source": []
  },
  {
   "cell_type": "markdown",
   "metadata": {},
   "source": [
    "\n",
    "##### Question: Is there a relationship between the car's model year and its price?\n",
    "##### Marking Criteria: The chart should display points for each car, with 'year' on the x-axis and 'price' on they-axis. Include a title and labels for the axes."
   ]
  },
  {
   "cell_type": "code",
   "execution_count": null,
   "metadata": {
    "vscode": {
     "languageId": "plaintext"
    }
   },
   "outputs": [],
   "source": []
  },
  {
   "cell_type": "markdown",
   "metadata": {},
   "source": [
    "\n",
    "##### Question: How is the mileage of the cars distributed?\n",
    "##### Marking Criteria: The chart should represent the frequency of each mileage value on the x-axis. You can use a 'histplot' or 'displot' function."
   ]
  },
  {
   "cell_type": "code",
   "execution_count": null,
   "metadata": {
    "vscode": {
     "languageId": "plaintext"
    }
   },
   "outputs": [],
   "source": []
  },
  {
   "cell_type": "markdown",
   "metadata": {},
   "source": [
    "\n",
    "##### Question: What are the average prices of different car models?\n",
    "##### Marking Criteria: The chart should have bars representing the average 'price' for each unique 'model' on the x-axis. Consider using a 'barplot' function."
   ]
  },
  {
   "cell_type": "code",
   "execution_count": null,
   "metadata": {
    "vscode": {
     "languageId": "plaintext"
    }
   },
   "outputs": [],
   "source": []
  },
  {
   "cell_type": "markdown",
   "metadata": {},
   "source": [
    "\n",
    "##### Question: How do 'year' and 'mileage' relate to each other?\n",
    "##### Marking Criteria: The chart should display a distribution plot for each pair of numeric variables from the dataset (year vs mileage, price vs mileage, etc.). You can use a 'pairplot' function."
   ]
  },
  {
   "cell_type": "code",
   "execution_count": null,
   "metadata": {
    "vscode": {
     "languageId": "plaintext"
    }
   },
   "outputs": [],
   "source": []
  },
  {
   "cell_type": "markdown",
   "metadata": {},
   "source": [
    "\n",
    "##### Question: How correlated are the numeric variables in the dataset?\n",
    "##### Marking Criteria: The chart should represent a heatmap where the intensity of each square reflects the correlation between two variables. You can use a 'heatmap' function."
   ]
  },
  {
   "cell_type": "code",
   "execution_count": null,
   "metadata": {
    "vscode": {
     "languageId": "plaintext"
    }
   },
   "outputs": [],
   "source": []
  },
  {
   "cell_type": "markdown",
   "metadata": {},
   "source": [
    "\n",
    "##### Question: How does the mileage distribution differ between different car models?\n",
    "##### Marking Criteria: The chart should display boxplots for 'mileage' across different models"
   ]
  },
  {
   "cell_type": "code",
   "execution_count": null,
   "metadata": {
    "vscode": {
     "languageId": "plaintext"
    }
   },
   "outputs": [],
   "source": []
  },
  {
   "cell_type": "markdown",
   "metadata": {},
   "source": [
    "\n",
    "##### Question: Similar to the box plot, how does the mileage distribution differ between car models, but with a clearer view of the data spread within each category?\n",
    "##### Marking Criteria: The chart should display violin plots for 'mileage' across different 'model' categories. Violin plots combine features of box plots and density plots, providing a more detailed view of the distribution."
   ]
  },
  {
   "cell_type": "code",
   "execution_count": null,
   "metadata": {
    "vscode": {
     "languageId": "plaintext"
    }
   },
   "outputs": [],
   "source": []
  },
  {
   "cell_type": "markdown",
   "metadata": {},
   "source": [
    "\n",
    "##### Question: How many cars from each model year are present in the dataset?\n",
    "##### Marking Criteria: The chart should display bars representing the count of cars for each unique value in the 'year' variable. You can use a 'countplot' function."
   ]
  },
  {
   "cell_type": "code",
   "execution_count": null,
   "metadata": {
    "vscode": {
     "languageId": "plaintext"
    }
   },
   "outputs": [],
   "source": []
  }
 ],
 "metadata": {
  "language_info": {
   "name": "python"
  }
 },
 "nbformat": 4,
 "nbformat_minor": 2
}
