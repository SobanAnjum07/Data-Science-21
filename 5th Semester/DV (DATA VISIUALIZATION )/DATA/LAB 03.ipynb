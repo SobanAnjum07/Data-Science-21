{
 "cells": [
  {
   "cell_type": "markdown",
   "id": "47ede66b",
   "metadata": {},
   "source": [
    "# Lab 03 - Data Visualization"
   ]
  },
  {
   "cell_type": "markdown",
   "id": "95467765",
   "metadata": {},
   "source": [
    "# Introduction"
   ]
  },
  {
   "cell_type": "markdown",
   "id": "c55e6c9e",
   "metadata": {},
   "source": [
    "This notebook provides a brief introduction to data visualization tools and principles. We will explore basic concepts using the Matplotlib library in Python and practice fundamental design principles."
   ]
  },
  {
   "cell_type": "markdown",
   "id": "0ebc7dc7",
   "metadata": {},
   "source": [
    "## Note:\n",
    "#### - Each task will be graded separately\n",
    "#### - Every Plot should have proper Axis and Title text\n",
    "#### - Set proper X and Y limits for plots\n",
    "#### - Marks will be deducted for incomplete results"
   ]
  },
  {
   "cell_type": "markdown",
   "id": "46184ab9",
   "metadata": {},
   "source": [
    "# 1. Import libraries: (2)\n",
    "- Numpy\n",
    "- Pandas\n",
    "- Matplotlib - pyplot"
   ]
  },
  {
   "cell_type": "code",
   "execution_count": null,
   "id": "d9a86dfb",
   "metadata": {},
   "outputs": [],
   "source": []
  },
  {
   "cell_type": "markdown",
   "id": "8546e5f0",
   "metadata": {},
   "source": [
    "# 2. Generate and plot data: (2)\n",
    "- x = [1, 2, 3, 4, 5]\n",
    "- y = [3, 5, 7, 2, 1]\n",
    "\n",
    "### Plot the data as a scatter plot"
   ]
  },
  {
   "cell_type": "code",
   "execution_count": null,
   "id": "65c7a78e",
   "metadata": {},
   "outputs": [],
   "source": []
  },
  {
   "cell_type": "markdown",
   "id": "77640a13",
   "metadata": {},
   "source": [
    "# 3. Customize plot elements: (4)"
   ]
  },
  {
   "cell_type": "markdown",
   "id": "8af374e3",
   "metadata": {},
   "source": [
    "- Change the plot market and color\n",
    "- Add grid lines \n",
    "- Add proper Labels and Title"
   ]
  },
  {
   "cell_type": "code",
   "execution_count": null,
   "id": "a6d9e70d",
   "metadata": {},
   "outputs": [],
   "source": []
  },
  {
   "cell_type": "markdown",
   "id": "b0324c13",
   "metadata": {},
   "source": [
    "# 4. Create different chart types: (4)\n",
    "- Line Plot\n",
    "- Bar Plot\n",
    "- Histogram"
   ]
  },
  {
   "cell_type": "code",
   "execution_count": null,
   "id": "d2448591",
   "metadata": {},
   "outputs": [],
   "source": []
  },
  {
   "cell_type": "markdown",
   "id": "2599126f",
   "metadata": {},
   "source": [
    "# 5. Enhance plot with annotations: (4)\n",
    "- Add an annotation on a random point in plot"
   ]
  },
  {
   "cell_type": "code",
   "execution_count": null,
   "id": "7bc42101",
   "metadata": {},
   "outputs": [],
   "source": []
  },
  {
   "cell_type": "markdown",
   "id": "107d120a",
   "metadata": {},
   "source": [
    "# 6. Subplots and multiple plots: (4)\n",
    "Create 2 Subplots\n",
    "+ Bar Plot\n",
    "+ Scatter Plot"
   ]
  },
  {
   "cell_type": "code",
   "execution_count": null,
   "id": "c283abd2",
   "metadata": {},
   "outputs": [],
   "source": []
  },
  {
   "cell_type": "markdown",
   "id": "0739bb32",
   "metadata": {},
   "source": [
    "# 7. Saving plots: (4)\n",
    "Save the most recent plot as PNG"
   ]
  },
  {
   "cell_type": "code",
   "execution_count": null,
   "id": "7a671fcd",
   "metadata": {},
   "outputs": [],
   "source": []
  },
  {
   "cell_type": "markdown",
   "id": "5c63ee13",
   "metadata": {},
   "source": [
    "# 8. Color theory and application: (4)"
   ]
  },
  {
   "cell_type": "markdown",
   "id": "dd360112",
   "metadata": {},
   "source": [
    "##### Explore Color Palattes\n",
    "Assign new variables\n",
    "- b = range(100)\n",
    "- a = [i**2 for i in x]\n",
    "\n",
    "Create a Scatter Plot with Viridis Colormap"
   ]
  },
  {
   "cell_type": "code",
   "execution_count": null,
   "id": "f13d2fc1",
   "metadata": {},
   "outputs": [],
   "source": []
  },
  {
   "cell_type": "markdown",
   "id": "c9aeb0d5",
   "metadata": {},
   "source": [
    "#### Apply Color Maps to Data\n",
    "Generate a 10x10 heatmap of random data using the 'coolwarm' colormap and display the color bar with labeled data values.\n"
   ]
  },
  {
   "cell_type": "code",
   "execution_count": null,
   "id": "b747e157",
   "metadata": {},
   "outputs": [],
   "source": []
  },
  {
   "cell_type": "markdown",
   "id": "842af567",
   "metadata": {},
   "source": [
    "# 9. Layout and composition: (4)"
   ]
  },
  {
   "cell_type": "markdown",
   "id": "a28c88a0",
   "metadata": {},
   "source": [
    "Explore the impact of different plot sizes and aspect ratios by creating a small square plot and a larger wide plot using the 'scatter' function.\n",
    "- Small = 5x5\n",
    "- Large = 10x5"
   ]
  },
  {
   "cell_type": "code",
   "execution_count": null,
   "id": "9124e848",
   "metadata": {},
   "outputs": [],
   "source": []
  },
  {
   "cell_type": "markdown",
   "id": "45062be0",
   "metadata": {},
   "source": [
    "Modify the legend placement to the upper left and adjust the positioning of the annotation for the point (2, 5) in a scatter plot"
   ]
  },
  {
   "cell_type": "code",
   "execution_count": null,
   "id": "91854ce3",
   "metadata": {},
   "outputs": [],
   "source": []
  },
  {
   "cell_type": "markdown",
   "id": "7358a1a0",
   "metadata": {},
   "source": [
    "Enhance the use of whitespace in a plot by adjusting the spacing around the plot area and creating a scatter plot with improved whitespace."
   ]
  },
  {
   "cell_type": "code",
   "execution_count": null,
   "id": "6d8d071a",
   "metadata": {},
   "outputs": [],
   "source": []
  },
  {
   "cell_type": "markdown",
   "id": "bb82c424",
   "metadata": {},
   "source": [
    "# 10. Effective chart selection: (4)"
   ]
  },
  {
   "cell_type": "markdown",
   "id": "263c34b8",
   "metadata": {},
   "source": [
    "Choose appropriate chart type for the following data\n",
    "- categories = ['A', 'B', 'C']\n",
    "- values = [10, 20, 30]"
   ]
  },
  {
   "cell_type": "code",
   "execution_count": null,
   "id": "23b46625",
   "metadata": {},
   "outputs": [],
   "source": []
  },
  {
   "cell_type": "markdown",
   "id": "f93a6f51",
   "metadata": {},
   "source": [
    "Showcase the use of simpler visuals, such as a scatter plot with adjusted markers and transparency, to cater to a broader audience.\n",
    "- marker: round\n",
    "- color: blue\n",
    "- transparency: 70%"
   ]
  },
  {
   "cell_type": "code",
   "execution_count": null,
   "id": "6c321aa1",
   "metadata": {},
   "outputs": [],
   "source": []
  },
  {
   "cell_type": "markdown",
   "id": "48793ce7",
   "metadata": {},
   "source": [
    "# 11. Customize plot styles: (4)"
   ]
  },
  {
   "cell_type": "markdown",
   "id": "8aab49fa",
   "metadata": {},
   "source": [
    "Experiment with line styles, marker shapes, and color gradients:\n",
    "- Dashed Line\n",
    "- Triangle Marker (Green)\n",
    "\n",
    "Utilize color gradients to represent data using a specified colormap, for example, 'YlGnBu', to create a scatter plot with a color bar."
   ]
  },
  {
   "cell_type": "code",
   "execution_count": null,
   "id": "c303c4ea",
   "metadata": {},
   "outputs": [],
   "source": []
  }
 ],
 "metadata": {
  "kernelspec": {
   "display_name": "Python 3",
   "language": "python",
   "name": "python3"
  },
  "language_info": {
   "codemirror_mode": {
    "name": "ipython",
    "version": 3
   },
   "file_extension": ".py",
   "mimetype": "text/x-python",
   "name": "python",
   "nbconvert_exporter": "python",
   "pygments_lexer": "ipython3",
   "version": "3.11.7"
  }
 },
 "nbformat": 4,
 "nbformat_minor": 5
}
